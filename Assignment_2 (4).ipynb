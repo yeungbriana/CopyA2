{
 "cells": [
  {
   "cell_type": "markdown",
   "id": "883ee6ef-bd0c-493f-a708-ed41f440fe95",
   "metadata": {},
   "source": [
    "# Assignment 2"
   ]
  },
  {
   "cell_type": "markdown",
   "id": "ad0f1625-a7ad-48f1-a076-419e1ea6390c",
   "metadata": {},
   "source": [
    "### COMPSCI 316: Cyber Security, Semester 2, 2024"
   ]
  },
  {
   "cell_type": "markdown",
   "id": "1cd34202-e15e-4a88-a3ae-cdedd42894f0",
   "metadata": {},
   "source": [
    "This assignment is worth 100 marks. The weight of this assignment is 10% of the course. The deadline to submit this assignment is Friday, September 20, 23:59 hrs NZ Time. A 10% penalty will be applied for each day of late submission, with a maximum allowed delay of 5 days. The assignment must be submitted through Canvas.\n",
    "\n",
    "For answers containing brief explanations you may use APA or IEEE  referencing style (https://libguides.victoria.ac.nz/statistics/referencing)\n",
    "\n",
    "Note. Sharing assignment solutions does not help in your learning. Consequently, our academic integrity policy does not permit sharing solutions or source code leading to solutions. Violation of this will result in your assignment submission attracting no marks, and you may also face disciplinary actions. Therefore, please do not share assignments, assignment solutions or source code leading to assignment solutions. Do not publish or make available your assignments or solutions online. You will be liable if someone copies your solution. Please talk to us if you have any doubts about what is legit and what is not.\n",
    "\n",
    "Do not leave your computers, devices, and belongings unattended — you must always secure these to prevent anyone from accessing your assignments or solutions.\n",
    "For more information, see our University’s Student Academic Conduct Statute\n"
   ]
  },
  {
   "cell_type": "code",
   "execution_count": null,
   "id": "bc975a17-b0fd-4bcc-a6ad-fda3a45f38d6",
   "metadata": {},
   "outputs": [],
   "source": [
    "# UPIs of the team members\n",
    "# byeu337\n",
    "# hgop418\n",
    "# dpah914\n",
    "# pasp141\n",
    "# rbau896"
   ]
  },
  {
   "cell_type": "markdown",
   "id": "38fcf296-9f87-4409-90a3-a58f6f5edac2",
   "metadata": {
    "jp-MarkdownHeadingCollapsed": true
   },
   "source": [
    "# Question 1 (10 marks)"
   ]
  },
  {
   "cell_type": "markdown",
   "id": "65cc0629-ae7d-4370-acc3-643b0756c822",
   "metadata": {
    "tags": []
   },
   "source": [
    "<b>“Privacy is a Social Construct”</b>. Comment on this statement along three different aspects of the society (e.g, Religion, education etc). For each aspect, include appropriate real-life examples to justify the answer. You can include any positive or negative examples. Include proper references to support the answer.\n",
    "\n",
    "•\tExplanation along three aspects [6 marks]<br>\n",
    "•\tAt least one example for each aspect [3 marks]<br>\n",
    "•\tJustification with proper referencing [1 mark]\n"
   ]
  },
  {
   "cell_type": "markdown",
   "id": "1924847d-b392-4687-87cf-554dbacbca7f",
   "metadata": {},
   "source": [
    "<div style=\"color: blue\"> Since we are always part of a society, our understanding of privacy is never absolute. It is shaped by the specific social roles we occupy, for e.g. student, employee, parent, friend and the expectations tied to these roles.\n",
    "Privacy can be perceived differently across different aspects of life. Each aspect brings with it unique norms, expectations, and boundaries that shape how privacy is understood and maintained.</div>\n",
    "\n",
    "<div style=\"color: blue\"><b>Privacy in Education:</b><br>\n",
    "Privacy in education is tied to how schools and educational institutions manage and protect the personal information of students, staff, and families. This includes a wide range of data, including academic performance, health records, behavioural information, personal demographics and even biometric information (Privacy Act 2020: Resources for Schools and Early Learning Services, 2024). The relationship between educational institutions and students is built on trust, and respecting privacy is key to maintaining that trust. Privacy also ties into the broader role of education as a space for personal growth and development. Schools and universities are places where students explore their identities, learn new skills, and often confront challenges. If personal information, such as health records or academic struggles, were mishandled or made public, it could significantly impact a student's ability to engage in the learning process without fear of judgement or exploitation.<br>\n",
    "\n",
    "For example,<br>\n",
    "The data breach at Fairfax County Public Schools (Patrickis, 2023) shows the importance of keeping personal information private in schools. In this case, a parent accessed sensitive student information, including details from Individualised Education Programs that described students’ learning disabilities, health records, and support needs. This data was unintentionally left unredacted on old thumb drives. The act of accessing and copying such sensitive information raised significant privacy concerns, as it exposed the personal details of numerous students without their consent or knowledge. Other parents were increasingly concerned about how their children's vulnerabilities could be misused or judged, which could harm their relationships with peers and teachers. The breach not only compromised the safety and confidentiality of students’ personal information but also weakened trust between the school and families, causing anxiety for parents and emotional distress for students. This situation shows how privacy violations can have serious effects, making students less likely to seek help and support, which ultimately affects their ability to learn and feel safe in their school environment. </div>\n",
    "\n",
    "<div style=\"color: blue\"> <b>Privacy in Religion:</b><br>\n",
    "Different societies and religious systems have shaped and defined the idea of privacy based on their values, teachings and cultural norms. Although privacy needs may be universal, the exact mechanisms used to regulate privacy can vary considerably from culture to culture (Harris et al., 1995). Religious differences influence the mechanisms by which individuals and groups control access to themselves and their personal lives. Privacy is thus not only a matter of individual preference but is linked to the collective values and teachings of a culture or religion. For instance, religious teachings often play a key role in shaping these mechanisms, as they inform the ethical and moral principles around personal boundaries and trust.\n",
    "\n",
    "For example,<br>\n",
    "In the context of Islam, privacy is deeply intertwined with religious values like Amanah (trust) and the safeguarding of personal information. The Salah Space app, created to help British Muslims book prayer times and reserve spaces for communal prayers in mosques during the COVID-19 pandemic, highlights how these cultural and religious values shape privacy mechanisms (Khan, 2021). The app developers implemented strict privacy measures, such as anonymous bookings, data encryption, and automatic deletion of information after a short period. These actions reflect a culturally specific approach to privacy influenced by Islamic teachings, particularly from the Quran, which emphasises the importance of respecting others' privacy and guarding one’s own. Verses in the Quran, such as Surah Al-Hujurat (49:12), warn against spying and gossiping about others, reinforcing the notion that privacy is sacred. \n",
    "This differs from some interpretations within Christianity, where privacy may not be as strongly emphasised in the same way. While Christian teachings advocate for honesty and integrity, they often focus on communal values and relationships, which can lead to more openness in personal matters. \n",
    "Another example is how the Mehinacu tribe in Brazil uses physical separation in the forest to create private moments, while Javanese families rely on social etiquette and emotional restraint to maintain privacy without the need for physical barriers (Li, Y., 2022). </div> \n",
    "\n",
    "\n",
    "<div style=\"color: blue\"><b>Privacy in the aspect of Gender:  </b><br>\n",
    "Privacy in the context of gender is profoundly shaped by cultural norms, societal expectations, and personal experiences, influencing how individuals navigate their identities and protect their personal information. For many women, privacy is closely linked to issues of safety and bodily autonomy, especially concerning reproductive health and experiences of gender-based violence. This necessitates robust protections for personal information to prevent potential harm and discrimination. Conversely, individuals that identify with other genders often face distinct privacy challenges, particularly around their gender identity. The fear of being outed can significantly affect their mental health and safety, making privacy a critical concern. \n",
    "\n",
    "For example, <br>\n",
    "The implementation of laws protecting the privacy of transgender and nonbinary students in educational settings highlights these unique challenges. In California, a law was enacted that prohibits school boards from requiring educators to inform parents if a student requests to use different pronouns or names. This legislation aims to protect the privacy of students who may not yet feel safe disclosing their gender identity to their families. Many transgender and nonbinary individuals live in fear of being outed to unsupportive or hostile family members, which can lead to severe emotional distress and even physical harm (Cowan, 2024).<br>\n",
    "A recent protest at the Rajiv Gandhi National University of Law (RGNUL) in Patiala, India highlighted the serious implications of privacy violations specifically for female students. During the protest, students expressed their outrage against the vice-chancellor, who allegedly conducted a surprise check of the girls’ hostel and questioned the dressing choices of the female students. This act was perceived not only as a significant breach of their privacy but also as an infringement on their dignity and autonomy. The protesting students firmly asserted that a male figure should not have the authority to enter the private spaces of female students, emphasising the critical need for clear boundaries that protect their integrity.By violating the privacy of female students, such actions reinforce harmful stereotypes and contribute to an environment where women feel judged, ultimately undermining their right to self-expression and personal freedom (PTI, 2024).\n",
    "Both scenarios highlight the importance of privacy in gender dynamics, illustrating how violations can have profound effects on individuals’ safety, autonomy, and overall well-being.</div>\n",
    " </font>\n"
   ]
  },
  {
   "cell_type": "markdown",
   "id": "60284f8d-14d5-4b7e-a9dc-b4e4e95f43a8",
   "metadata": {
    "jp-MarkdownHeadingCollapsed": true
   },
   "source": [
    "# Question 2 (20 marks)"
   ]
  },
  {
   "cell_type": "markdown",
   "id": "0ec3065e-55c8-4e99-8bde-d555803b5328",
   "metadata": {},
   "source": [
    "<b>Organisational Privacy Climate </b> refers to the influence of the organisation’s environment on developers’ privacy-preserving mindset and behaviour.\n",
    "<b>EduPlay</b> is a software startup with 20 employees. They develop educational applications for children. Their main product, <b>EduQuest</b>, is a gamified educational app designed for kids aged 6 to 12 in NZ. It handles personal data including names, age, grade, learning progress, and product usage details. In the future, EduQuest will be released to the European market.\n"
   ]
  },
  {
   "cell_type": "markdown",
   "id": "2fbe8cac-d363-436c-ac62-bad27172a8f2",
   "metadata": {
    "jp-MarkdownHeadingCollapsed": true,
    "tags": []
   },
   "source": [
    "### Question 2.1"
   ]
  },
  {
   "cell_type": "markdown",
   "id": "1ab6809e-4d2b-429a-b650-a3486d739c96",
   "metadata": {},
   "source": [
    "Why is a strong privacy climate important for a software company? Use the following points to guide your answer.<br>\n",
    "•\tWhy is privacy protection in software apps essential/required? [3 marks]<br>\n",
    "•\tHow can a poor privacy climate affect the privacy protection levels? [5 marks]\n"
   ]
  },
  {
   "cell_type": "markdown",
   "id": "ee9e2170-a72a-40a8-acd0-37ad8dadfaed",
   "metadata": {},
   "source": [
    "<div style=\"color: blue; margin-bottom: 1em;\">\n",
    "  Apps, being newer technology than websites, may present more barriers and loopholes, making privacy policies essential and deserving of closer attention, especially as more individuals rely on them for personal data. Without strong privacy protections, sensitive information can be exposed to unauthorised access, leading to identity theft, fraud, and other malicious activities. Apps often have deeper access to data and frequently use APIs, which can allow multiple parties access to user information. Additionally, apps may run in the background and retain permissions indefinitely (Zimmeck et al., 2016). Protecting privacy is vital for ensuring human dignity, safety, and societal benefit. The Cambridge Analytica scandal illustrates how inadequate data privacy measures can lead to large-scale misuse of personal information, affecting millions without consent (Wong, 2019). This erosion of privacy can undermine user confidence and damage a company’s reputation, resulting in legal consequences and loss of business. Thus, ensuring privacy protection in software applications is not just a legal obligation but crucial for maintaining trust and safeguarding user information for a healthy society. \n",
    "</div>\n",
    "\n",
    "<div style=\"color: blue; margin-bottom: 1em;\">\n",
    "  A poor influence of the organisation’s privacy climate will decrease the levels of privacy of an organisation. In an organisation where the culture fails to prioritise privacy, developers may adopt a mindset that undervalues privacy-preserving practices. This lack of emphasis can lead to negligence in implementing strong data protection measures and adopting privacy-focused coding standards (Waldman, 2017). For example, if management emphasises rapid product development over security, developers might prioritise functionality and speed, resulting in the use of outdated or insecure libraries that provide an easy entry for attackers to access sensitive data. Consequently, this negligence can create vulnerabilities, increasing the risk of data breaches. Ultimately, the organisation's privacy levels decrease significantly, as a culture that neglects privacy fosters behaviours that compromise data security and individual rights.\n",
    "</div>\n",
    "\n",
    "<div style=\"color: blue;\">\n",
    "  Overall, a strong privacy climate is important for a software company because neglecting one will decrease levels of privacy, which can lead to both organisation and individual implications. The organisational level includes reputation damage, legal penalties, fines and loss of business, and at the individual level, this entails a negative cyberspace for users who may become vulnerable to fraud, thrift and the exploitation of their information.\n",
    "</div>\n",
    "\n"
   ]
  },
  {
   "cell_type": "markdown",
   "id": "495310f0-6b3c-4171-b6b7-95cb603e0882",
   "metadata": {
    "jp-MarkdownHeadingCollapsed": true
   },
   "source": [
    "### Question 2.2"
   ]
  },
  {
   "cell_type": "markdown",
   "id": "ff1692f5-95eb-4d7a-a775-e6e2fe82f791",
   "metadata": {},
   "source": [
    "Describe 4 steps you suggest to improve the privacy climate of EduPlay. [12 marks]"
   ]
  },
  {
   "cell_type": "markdown",
   "id": "8013da58-d99a-40d2-8989-e36eab9d2279",
   "metadata": {},
   "source": [
    "<font color=\"blue\"> To improve the privacy climate at EduPlay, the startup should take a few key steps to foster a culture of privacy among its developers. First, offering regular training sessions on data protection principles is essential; this would help everyone understand the significance of privacy, especially with GDPR regulations coming into play as they prepare for the European market. Second, implementing a privacy-by-design approach in their development process would ensure that privacy considerations are integrated from the very beginning of product development, rather than being an afterthought. Additionally, creating a privacy champion program where select employees can advocate for privacy practices would help spread awareness and create a sense of accountability across teams. Lastly, conducting regular audits of data handling practices can help identify potential vulnerabilities and keep everyone on track with compliance. By taking these steps, EduPlay can build a strong privacy culture that not only protects user data but also enhances trust with their customers. </font>"
   ]
  },
  {
   "cell_type": "markdown",
   "id": "0cd4f2e4-b1be-4a55-9fad-e1273463dd7b",
   "metadata": {
    "jp-MarkdownHeadingCollapsed": true
   },
   "source": [
    "# Question 3 (20 marks)"
   ]
  },
  {
   "cell_type": "markdown",
   "id": "df044e28-ec95-486a-8e84-31a01f395879",
   "metadata": {},
   "source": [
    "A software company plans to build a system: “MediO”, that allows decentralised hospitals to collaboratively share their data with external investigators. Each hospital tests a new vaccine on patients with a rare genetic disorder and uses a remote Storage and Processing Unit (SPU) to store and process clinical data, personal identifiers and contact details. For each query asked by the external investigators, MediO requests answers from all SPUs and returns an aggregated answer. MediO is expected to handle data of 1500 patients."
   ]
  },
  {
   "cell_type": "markdown",
   "id": "c97831bc-671a-4d58-97ac-3059c82fc831",
   "metadata": {},
   "source": [
    "### Question 3.1"
   ]
  },
  {
   "cell_type": "markdown",
   "id": "5ca01708-7d66-4ced-8a22-29f2a805321d",
   "metadata": {},
   "source": [
    "Identify 5 personal data items that the SPU’s would likely to handle. Classify them into sensitive and non-sensitive data. [2 marks]"
   ]
  },
  {
   "cell_type": "markdown",
   "id": "4c9b64e0-adee-436f-ac6e-f7c8731ff72a",
   "metadata": {},
   "source": [
    "<font color=\"blue\"> 1. Date of Enrollment - Non-sensitive\n",
    "2. Ethnic Origin - Sensitive \n",
    "3. Clinical Data - Sensitive \n",
    "4. Genetic Disorder Information - Sensitive \n",
    "5. Contact Details - Non-sensitive \n",
    " </font>"
   ]
  },
  {
   "cell_type": "markdown",
   "id": "22a5990d-b197-4e8d-88ce-1b385ccdb966",
   "metadata": {},
   "source": [
    "### Question 3.2"
   ]
  },
  {
   "cell_type": "markdown",
   "id": "68a51281-0366-402f-ad20-ddead0090b81",
   "metadata": {},
   "source": [
    "Select 5 threats categories from the LINDDUN threat model. For each category, identify one privacy threat present in MediO. [10 marks] Help : https://linddun.org/"
   ]
  },
  {
   "cell_type": "markdown",
   "id": "32248485-aed5-447d-8bfc-1eee8f4caf5d",
   "metadata": {
    "tags": []
   },
   "source": [
    "<font color=\"blue\"> Linking: \n",
    "Investigators may leverage the aggregated query responses by cross-referencing them with data from external databases or research, potentially revealing personal details about a patient beyond what is available in the SPUs. This method allows them to build detailed profiles of individuals, compromising their data and potentially leading to their identification.  \n",
    "\n",
    "Identification: \n",
    "Investigators could manipulate their queries to discern whether an individual is in the dataset. By gradually refining their queries, they can reveal more details over time and piece data points together. If these data points are distinct enough and reveal a unique and specific combination, they could deduce that the particular individual is involved, such as a prominent figure or someone they know. Additionally, in a limited dataset, tracing specific traits back to a particular patient becomes easier.\n",
    "\n",
    "Data Disclosure: \n",
    "If MediO aggregates data without filtering it according to the query's requirements, unnecessary details may be shared, increasing the risk of privacy breaches. Privacy risks could also occur inadvertently through data aggregation, as patterns could reveal sensitive information that is not directly relevant to the query.\n",
    "\n",
    "Unawareness: \n",
    "Patients may be unaware of where their data is shared, how it is processed, or its intended use. The decentralised nature of the system can make it difficult for patients to track how their data is being managed by the multiple hospitals and external investigators involved. With numerous entities handling the data, it is unclear if they all follow consistent rules and regulations, and it may be unclear to the patient how data is stored, protected and used. This lack of transparency can leave patients confused and unable to make fully informed decisions concerning their privacy and personal data. \n",
    "\n",
    "Non-compliance:\n",
    "Due to the decentralised structure of MediO, there is an increased chance of inconsistent compliance standards because the entities may be located across several countries/regions with varying rules and regulations. These differences may complicate the process of monitoring compliance of all entities involved. Variations in their interpretation and implementation of data protection policies could result in vulnerabilities, exposing patient data and sensitive information to increased risks.  \n",
    " </font>"
   ]
  },
  {
   "cell_type": "markdown",
   "id": "e95294aa-fb5a-4d34-ba39-a9602ad24f98",
   "metadata": {},
   "source": [
    "### Question 3.3"
   ]
  },
  {
   "cell_type": "markdown",
   "id": "8e9d6796-458d-4bbd-a0c5-de99db2bfae9",
   "metadata": {},
   "source": [
    "Name 4 measures that you can take to mitigate the threats identified in Question 3.2. The answers should include both non-technical and technical measures. Describe the reasons for choosing each measure. [8 marks]"
   ]
  },
  {
   "cell_type": "markdown",
   "id": "bc1faa5d",
   "metadata": {},
   "source": [
    "<font color=\"blue\"> \n",
    "Technical:\n",
    "Implementing data minimisation policies, such as query filtering and restrictions using software and algorithms. This ensures that only the minimum necessary information is provided in the response and that irrelevant data points are filtered out. Investigators should also be restricted to sending queries that align with their approved research purposes, and the number of queries they can send should be limited to prevent excessive or targeted querying. This mitigates the risk of identification, linking and data disclosure as they help prevent access to excessive data that could be used for profiling or the unauthorised inference of personal data. \n",
    "\n",
    "Using Role-Based Access Control systems to ensure that only authorised users have access to sensitive data, depending on their role within the organisation. With strict controls over permissions, users such as administrators, investigators, and medical professionals can access the data they require to carry out their tasks while adhering to the principle of least privilege. Identification is mitigated as unauthorised users would not have access to comprehensive or identifiable information. Furthermore, RBAC limits the ability to view detailed information, mitigating the risks of data overexposure and linking. Through this measure, the patient's privacy is better protected.\n",
    "\n",
    "Non-technical:\n",
    "Implementing clear and transparent patient consent protocols and providing detailed information on how their data is being shared, processed, and used. These protocols should include information on how their data will be aggregated and who it will be shared with. Patients should also be informed on the risks of data aggregation and the potential implications of sharing their data. They should also be allowed to withdraw consent at any time. This mitigates the risk of unawareness as it ensures patients can fully empowered decisions and reduces any confusion regarding how their data is handled.\n",
    "\n",
    " Ensure that all entities involved adhere to a standardised agreement of data protection rules regardless of location, while ensuring they comply with their local regulations. This ensures that all parties handle patient data with the same level of care and security. To maintain accountability, regular audits should be carried out to assess compliance with the standardised agreement. This mitigates the risk of non-compliance as it makes it easier to recognise and resolve any discrepancies or violations, protecting patient data from potential breaches. \n",
    "\n",
    " </font>"
   ]
  },
  {
   "cell_type": "markdown",
   "id": "f96d45a7-4777-4734-807e-0d351933c7ed",
   "metadata": {
    "jp-MarkdownHeadingCollapsed": true
   },
   "source": [
    "# Question 4 (25 marks)"
   ]
  },
  {
   "cell_type": "markdown",
   "id": "34fe17fb-0135-4607-92c1-80fa3525c8e5",
   "metadata": {},
   "source": [
    "Download <b>“UOA_counseling_dataset.csv”</b> from Canvas. The CSV file includes data of the students who attended counselling sessions conducted by the University’s Health Centre. An external research group is requesting the dataset to analyse the psychological issues of UoA students.\n",
    "Apply <b>3-Anonymity</b> to the dataset "
   ]
  },
  {
   "cell_type": "code",
   "execution_count": 1,
   "id": "074e391d-c0b6-4372-82c3-7cfc900ab09c",
   "metadata": {
    "tags": []
   },
   "outputs": [],
   "source": [
    "!pip3 install pandas\n",
    "!pip3 install matplotlib\n",
    "!pip3 install seaborn\n",
    "!pip3 install datetime\n",
    "\n",
    "Importing the libraries\n",
    "\n",
    "import pandas as pd\n",
    "import numpy as np\n",
    "import matplotlib.pyplot as plt\n",
    "import seaborn as sns\n",
    "from datetime import datetime"
   ]
  },
  {
   "cell_type": "code",
   "execution_count": null,
   "id": "77f904f6-92c4-44b9-8190-285b5ddbbef4",
   "metadata": {},
   "outputs": [],
   "source": [
    "#Let's start with a simple dataset\n",
    "data_anon = pd.read_csv('UOA_counseling_dataset.csv')\n",
    "data_anon.info()"
   ]
  },
  {
   "cell_type": "markdown",
   "id": "07c7e65e-c64e-4537-8dce-99a47ae4b2a3",
   "metadata": {},
   "source": [
    "### Question 4.1"
   ]
  },
  {
   "cell_type": "markdown",
   "id": "1e6187c3-f6e3-4258-8713-4331203049c2",
   "metadata": {},
   "source": [
    "Preprocessing is done before data analysis to prepare the data according to our analysis requirements. 1.\tComplete the following preprocessing steps before we apply 3-Anonymity"
   ]
  },
  {
   "cell_type": "markdown",
   "id": "3063083d-973d-46dd-ab9b-09bbd3a29071",
   "metadata": {},
   "source": [
    "#### Question 4.1.a"
   ]
  },
  {
   "cell_type": "markdown",
   "id": "4e13c4f2-0539-4b9e-ac25-4a7f36acb2e7",
   "metadata": {
    "tags": []
   },
   "source": [
    "Remove the direct identifiers columns from the dataset [2 marks]"
   ]
  },
  {
   "cell_type": "code",
   "execution_count": 133,
   "id": "035199f8-4107-4dc2-bc13-a74a3498c023",
   "metadata": {
    "tags": []
   },
   "outputs": [],
   "source": [
    "def anon_remove_columns():\n",
    "    data_anon.drop(columns=['Email', 'Mobile Number',\"Full Name\", \"Student ID\", \"Preferred Email\"], inplace=True)"
   ]
  },
  {
   "cell_type": "markdown",
   "id": "5b977e46-5b72-4511-a0d1-c92cace3012e",
   "metadata": {},
   "source": [
    "#### Question 4.1.b"
   ]
  },
  {
   "cell_type": "markdown",
   "id": "c6c3f838-6c9c-47a5-9741-db5f4025a241",
   "metadata": {
    "tags": []
   },
   "source": [
    "Convert the ‘DoB’ values to the corresponding age. Rename the column as ‘Age’ [1 mark]"
   ]
  },
  {
   "cell_type": "code",
   "execution_count": 134,
   "id": "ce94f225-7257-4b82-b028-671ea4a49555",
   "metadata": {
    "tags": []
   },
   "outputs": [],
   "source": [
    "def anon_calculate_age():\n",
    "    # Convert 'DoB' column to datetime format\n",
    "    data_anon['DoB'] = pd.to_datetime(data_anon['DoB'], format='%d/%m/%Y')\n",
    "    \n",
    "    # Calculate age\n",
    "    today = pd.Timestamp.today()\n",
    "    age = (today - data_anon['DoB']) / pd.Timedelta(days=365.25)  # Approximate number of days in a year\n",
    "    data_anon['Age'] = age.astype(int)  # Convert to integer\n",
    "    \n",
    "    # Drop the 'DoB' column\n",
    "    data_anon.drop(columns=['DoB'], inplace=True)\n"
   ]
  },
  {
   "cell_type": "markdown",
   "id": "8fb09ec5-0ec2-4de6-98df-ce817a0fe9c8",
   "metadata": {},
   "source": [
    "#### Question 4.1.c"
   ]
  },
  {
   "cell_type": "markdown",
   "id": "06f02d58-c718-4c18-970b-2d5238e498ba",
   "metadata": {},
   "source": [
    "Replace the ‘Gender’ values with the following abbreviations [1 mark] <br>\n",
    "Female = F, Male = M, Other = O"
   ]
  },
  {
   "cell_type": "code",
   "execution_count": 135,
   "id": "c222f38d-5c90-45af-a185-ee3adc4fd525",
   "metadata": {
    "tags": []
   },
   "outputs": [],
   "source": [
    "def anon_replace_gender():\n",
    "    gender_mapping = {'Male': 1, 'Female': 2, 'Other': 3}  \n",
    "    data_anon['Gender'] = data_anon['Gender'].map(gender_mapping)\n"
   ]
  },
  {
   "cell_type": "markdown",
   "id": "cec991f8",
   "metadata": {},
   "source": []
  },
  {
   "cell_type": "markdown",
   "id": "5e8dbf14-278f-41be-afaa-8f01a1dc27c9",
   "metadata": {},
   "source": [
    "#### Question 4.1.d"
   ]
  },
  {
   "cell_type": "markdown",
   "id": "cae2fda4-980b-4aff-90e5-3c893a4deb2e",
   "metadata": {},
   "source": [
    "Replace the ‘Study Field’ values with the following abbreviations [1 mark]<br>\n",
    "Bioengineering = BE        \n",
    "Creative Arts = CA <br>\n",
    "Law = L<br>\n",
    "Arts = A<br>\n",
    "Education and Social Work= ESW<br>\n",
    "Medical and Health Sciences =MHS<br>\n",
    "Business = B<br>\n",
    "Engineering = E <br>\n",
    "Science = S<br>"
   ]
  },
  {
   "cell_type": "code",
   "execution_count": 136,
   "id": "b0853987-18af-47d3-b140-bc7cbf06535c",
   "metadata": {
    "tags": []
   },
   "outputs": [],
   "source": [
    "def anon_replace_studyfield():\n",
    "        study_field_abbrev = {\n",
    "        'Bioengineering': 'BE',\n",
    "        'Creative Arts': 'CA',\n",
    "        'Law': 'L',\n",
    "        'Arts': 'A',\n",
    "        'Education and Social Work': 'ESW',\n",
    "        'Medical and Health Sciences': 'MHS',\n",
    "        'Business': 'B',\n",
    "        'Engineering': 'E',\n",
    "        'Science': 'S'\n",
    "    }\n",
    "        data_anon['Study Field'] = data_anon['Study Field'].replace(study_field_abbrev)\n",
    "        return data_anon\n",
    "data_anon = anon_replace_studyfield()"
   ]
  },
  {
   "cell_type": "markdown",
   "id": "1d41b5d1-6f6c-430e-b6f9-15af9660c54b",
   "metadata": {},
   "source": [
    "#### Question 4.1.e"
   ]
  },
  {
   "cell_type": "markdown",
   "id": "d4fe9ddd-f6d7-4e63-9e28-791ae7ac9219",
   "metadata": {},
   "source": [
    "Replace ‘Maori’ and ‘Pacific’ values in the ‘Ethnicity’ column with ‘Polynesian’. After that, replace any ethnicity with ‘Other’, if they have less than 5% representation in the dataset [2 marks]"
   ]
  },
  {
   "cell_type": "code",
   "execution_count": 137,
   "id": "8998550b-840d-4881-b28d-20befa3e8db3",
   "metadata": {
    "tags": []
   },
   "outputs": [],
   "source": [
    "def anon_genralise_ethnicity():\n",
    "    data_anon['Ethnicity'] = data_anon['Ethnicity'].replace({'Maori': 'Polynesian', 'Pacific': 'Polynesian'})\n",
    "    ethnicity_counts = data_anon['Ethnicity'].value_counts()\n",
    "    total_count = len(data_anon)\n",
    "    ethnicity_percentages = (ethnicity_counts / total_count) * 100\n",
    "    ethnicities_to_replace = ethnicity_percentages[ethnicity_percentages < 5].index\n",
    "    data_anon['Ethnicity'] = data_anon['Ethnicity'].replace(ethnicities_to_replace, 'Other')\n",
    "    return data_anon\n",
    "data_anon = anon_genralise_ethnicity()\n"
   ]
  },
  {
   "cell_type": "markdown",
   "id": "dddfe516-9c0c-4e6c-9c4c-07f71755bf51",
   "metadata": {},
   "source": [
    "##### Run the preprocessing method"
   ]
  },
  {
   "cell_type": "code",
   "execution_count": 138,
   "id": "7fbb5c9e-3332-4948-8695-ea3391c2b9e5",
   "metadata": {
    "tags": []
   },
   "outputs": [],
   "source": [
    "def anon_preprocess_data():\n",
    "    anon_remove_columns()\n",
    "    anon_calculate_age()\n",
    "    anon_replace_gender()\n",
    "    anon_replace_studyfield()\n",
    "    anon_genralise_ethnicity()\n",
    "    \n",
    "anon_preprocess_data()"
   ]
  },
  {
   "cell_type": "markdown",
   "id": "53c8be3b-3b95-476e-9411-31e38fc9bd3b",
   "metadata": {
    "tags": []
   },
   "source": [
    "##### Follwoing are the Quasi Identifiers in the dataset."
   ]
  },
  {
   "cell_type": "code",
   "execution_count": 10,
   "id": "1854c5e1-f1d3-40fd-bafe-b07d0ff946cf",
   "metadata": {
    "tags": []
   },
   "outputs": [],
   "source": [
    "qids = ['ZIP','Age', 'Gender', 'Ethnicity', 'Study Field']"
   ]
  },
  {
   "cell_type": "markdown",
   "id": "03262d89-7c8b-4574-8f73-30d988ff3c76",
   "metadata": {},
   "source": [
    "#### Question 4.2"
   ]
  },
  {
   "cell_type": "markdown",
   "id": "dd8aea48-91b7-4663-bd1e-efa1430f2730",
   "metadata": {},
   "source": [
    "Include all the categorical columns in the Quasi Identifiers to the categorical list in the code. [1 marks]"
   ]
  },
  {
   "cell_type": "code",
   "execution_count": 140,
   "id": "a8851d63-c8b6-4573-8249-54c0788ebf0d",
   "metadata": {
    "tags": []
   },
   "outputs": [],
   "source": [
    "categorical = ['ZIP','Age', 'Gender', 'Ethnicity', 'Study Field']"
   ]
  },
  {
   "cell_type": "markdown",
   "id": "c448362a-3481-4182-896c-6020d3101fec",
   "metadata": {},
   "source": [
    "#### Question 4.3"
   ]
  },
  {
   "cell_type": "markdown",
   "id": "052fa49c-4740-473b-b92c-488e9a8a4647",
   "metadata": {
    "tags": []
   },
   "source": [
    "To achieve 3-Anonymous groups, partition the dataset using the algorithm we discussed during the lectures. [10 marks]"
   ]
  },
  {
   "cell_type": "code",
   "execution_count": 145,
   "id": "d9d9cfed-4814-4041-8741-eac6aab89b86",
   "metadata": {
    "tags": []
   },
   "outputs": [],
   "source": [
    "# For a given partition, find the column wise variability\n",
    "def get_qid_variability(partition):\n",
    "    qid_variability = {}\n",
    "\n",
    "    for column in qids:\n",
    "         \n",
    "        qid_variability[column] = len(set(data_anon[column][partition]))\n",
    "    qid_variability = dict(sorted(qid_variability.items(), key=lambda item: item[1],reverse=True))\n",
    "    \n",
    "    return qid_variability"
   ]
  },
  {
   "cell_type": "code",
   "execution_count": 146,
   "id": "2559fe78-18fc-4ede-9825-577d4a1910d4",
   "metadata": {
    "tags": []
   },
   "outputs": [],
   "source": [
    "# Split a given partition\n",
    "def split(partition, column):\n",
    "    values = data_anon[column][partition]\n",
    "    \n",
    "    if column not in categorical:\n",
    "        median = values.median()\n",
    "        \n",
    "        lhs = values.index[values < median]\n",
    "        rhs = values.index[values >= median]\n",
    "        \n",
    "    else:\n",
    "        unique_categories = values.unique()\n",
    "        mid = len(unique_categories) // 2\n",
    "        lhs_mask = unique_categories[:mid]\n",
    "        rhs_mask = unique_categories[mid:]\n",
    "        \n",
    "        lhs = values.index[values.isin(lhs_mask)]\n",
    "        rhs = values.index[values.isin(rhs_mask)]\n",
    "    return lhs, rhs"
   ]
  },
  {
   "cell_type": "code",
   "execution_count": 147,
   "id": "c2c525bc-5498-4b6c-84ce-fe61e8e1d835",
   "metadata": {
    "tags": []
   },
   "outputs": [],
   "source": [
    "# Mondrian algorithm to partition a given dataset\n",
    "def mondrian(k):\n",
    "    final_partitions = []\n",
    "    \n",
    "    # Initial partition is the entire dataset\n",
    "    partitions = [data_anon.index]\n",
    "    \n",
    "    while partitions:\n",
    "        partition = partitions.pop(0)\n",
    "        if len(partition) >= k * 2:\n",
    "            qid_variability = get_qid_variability(partition)\n",
    "            for column in qid_variability:\n",
    "                lhs, rhs = split(partition, column)\n",
    "                # Ensure both partitions have at least k rows\n",
    "                if len(lhs) < k or len(rhs) < k:\n",
    "                    continue\n",
    "                else:\n",
    "                    partitions.extend((lhs, rhs))\n",
    "                    break\n",
    "            \n",
    "            else:\n",
    "                final_partitions.append(partition)\n",
    "        else:\n",
    "            final_partitions.append(partition)\n",
    "    \n",
    "    return final_partitions"
   ]
  },
  {
   "cell_type": "markdown",
   "id": "34751d4c-e095-4895-8ea5-396f77f7d23d",
   "metadata": {},
   "source": [
    "##### Run the Mondrian algorithm"
   ]
  },
  {
   "cell_type": "code",
   "execution_count": 148,
   "id": "f12b6f76-be51-4393-8523-247601a49f09",
   "metadata": {
    "tags": []
   },
   "outputs": [],
   "source": [
    "final_partitions = mondrian(3)"
   ]
  },
  {
   "cell_type": "markdown",
   "id": "c0e3afb4-4872-4989-ad9c-bb4ff93320cd",
   "metadata": {},
   "source": [
    "#### Question 4.4"
   ]
  },
  {
   "cell_type": "markdown",
   "id": "db9ac309-6a21-43d8-86ca-dfad4f5ebfa5",
   "metadata": {},
   "source": [
    "Apply anonymization to the partitioned dataset. Use the following guidelines when anonymizing the data. Refer to the attached images to get a clearer idea about the guidelines. (Zip column is already done for you). For each partition:"
   ]
  },
  {
   "cell_type": "markdown",
   "id": "f75f8dd1-625a-486a-ba8b-6ef70f1b6c2d",
   "metadata": {},
   "source": [
    "<b>Age</b> - Replace with the average age in the partition. Use the round() to round the value into maximum of 2 decimal places [1 mark]<br>\n",
    "<b>Gender</b> The values should be replaced with the value ‘human’ if the partition has non-unique gender values [1 mark] <br>\n",
    "<b>Ethnicity</b> and <b>Study Field</b> <br>*  If there are only 2 or 3 unique values in the partition, join them using the delimiter “~” and replace the original values with it <br>* Otherwise, replace the values with a “*” \n",
    "[3 marks] "
   ]
  },
  {
   "cell_type": "code",
   "execution_count": 151,
   "id": "30346940-a784-4b61-9aae-1c571fae646a",
   "metadata": {
    "tags": []
   },
   "outputs": [],
   "source": [
    "def build_anonymized_dataset():\n",
    "    anonymized_data = data_anon.copy()\n",
    "    \n",
    "    # 1. Bring QIDs together (Put the session offered and attended after QIDs)\n",
    "    anonymized_data = anonymized_data[qids + [col for col in anonymized_data.columns if col not in qids]]\n",
    "    \n",
    "    # 2. Bring the rows in each partition closer so that we can clearly see the groups\n",
    "    desired_order = []\n",
    "    for partition_index,partition in enumerate(final_partitions):\n",
    "        desired_order.extend(partition)\n",
    "        \n",
    "    anonymized_data = anonymized_data.reindex(desired_order)\n",
    "    \n",
    "\n",
    " \n",
    "    # 3. Apply generalisation and suppression to QIDs, if applicable\n",
    "    for partition_index,partition in enumerate(final_partitions):\n",
    "        for column in qids:\n",
    "            values_in_partition = anonymized_data.loc[list(partition), column]\n",
    "            unique_values = values_in_partition.unique()\n",
    "            \n",
    "            if column in categorical:\n",
    "                if column == 'Gender':\n",
    "                    if len(unique_values) > 1:\n",
    "                        anonymized_data.loc[list(partition), column] = 'human'\n",
    "                elif column in ['Ethnicity', 'Study Field']:\n",
    "                    if 2 <= len(unique_values) <= 3:\n",
    "                        replacement = \"~\".join(unique_values)\n",
    "                        anonymized_data.loc[partition, column] = replacement\n",
    "                    else:\n",
    "                        anonymized_data.loc[partition, column] = \"*\"\n",
    "                elif column == 'Age':\n",
    "                        try:\n",
    "                            values_in_partition = values_in_partition.astype(float)\n",
    "                            average_age = round(values_in_partition.mean(), 2)\n",
    "                            anonymized_data.loc[partition, column] = average_age\n",
    "                        except ValueError as e:\n",
    "                            print(f\"Error processing 'Age' column: {e}\")\n",
    "                        print(f\"Updated 'Age' for partition indices {partition} with average value: {average_age}\")\n",
    "                elif column == 'ZIP':\n",
    "                    str_column = anonymized_data.loc[partition, column].apply(str)\n",
    "                    \n",
    "                    if len(unique_values) > 1:\n",
    "                        if str_column.str.len().nunique() == len(partition):\n",
    "                            anonymized_data.loc[partition, column] = \"*\"\n",
    "                        else:\n",
    "                            length = str_column.str.len().iloc[0]\n",
    "                            first_non_unique_index = length  # Default to length of the string\n",
    "                            for i in range(length):\n",
    "                                if str_column.str[i].nunique() > 1:\n",
    "                                    first_non_unique_index = i\n",
    "                                    break\n",
    "                    \n",
    "                            if first_non_unique_index == 0:\n",
    "                                replacement_str = \"*\"\n",
    "                            else:\n",
    "                                replacement_str = str_column.str[:first_non_unique_index] + '*' * (length - first_non_unique_index)\n",
    "                    \n",
    "                            anonymized_data.loc[partition, column] = replacement_str\n",
    "\n",
    "    return anonymized_data\n"
   ]
  },
  {
   "cell_type": "markdown",
   "id": "7a39ab25-8abe-4444-bb31-0328335c49f4",
   "metadata": {},
   "source": [
    "##### Run the anonymisation"
   ]
  },
  {
   "cell_type": "code",
   "execution_count": 152,
   "id": "fb4b7bc1-754a-4ab8-82f5-bb82ed347cf6",
   "metadata": {
    "tags": []
   },
   "outputs": [],
   "source": [
    "data_anonymised = build_anonymized_dataset()"
   ]
  },
  {
   "cell_type": "markdown",
   "id": "e2cdc9c9-35e5-4fd3-a6d8-675d9c00773f",
   "metadata": {},
   "source": [
    "##### Run this function to display the final dataset"
   ]
  },
  {
   "cell_type": "code",
   "execution_count": null,
   "id": "daf693a8-c128-49c3-a8a7-926fda360a61",
   "metadata": {},
   "outputs": [],
   "source": [
    "# Alternate partitions are colored in yellow for your clarity\n",
    "def styled_data(data_frame):\n",
    "    colored_rows =[]\n",
    "\n",
    "    for partition_index,partition in enumerate(final_partitions):\n",
    "        if partition_index % 2 == 0:\n",
    "            colored_rows.extend(partition.values)\n",
    "    return data_frame.style.set_properties(subset = pd.IndexSlice[colored_rows, qids], **{'background-color' : 'yellow'})\n",
    "\n",
    "styled_data(data_anonymised)"
   ]
  },
  {
   "cell_type": "markdown",
   "id": "38a86d06-08f3-4d15-ba03-7104f644d741",
   "metadata": {},
   "source": [
    "#### Question 4.5"
   ]
  },
  {
   "cell_type": "markdown",
   "id": "3c130612-3ed8-4dc1-a168-67d3133d300c",
   "metadata": {
    "tags": []
   },
   "source": [
    "Run the below code to verify that your code satisfies 3-Anonymity [2 marks]"
   ]
  },
  {
   "cell_type": "code",
   "execution_count": null,
   "id": "91b57246-aadc-438a-8cda-49c71b8bff99",
   "metadata": {},
   "outputs": [],
   "source": [
    "# Run this code to see if the anonymised dataset satisfies 3-Anonymity\n",
    "\n",
    "def isKAnonymized(dataset, k):\n",
    "    dataset_copy = dataset.copy()\n",
    "    dataset_copy = dataset_copy.astype(str)\n",
    "    \n",
    "    for index, row in dataset_copy.iterrows():\n",
    "        query = ' & '.join([f'`{qid}` == \"{row[qid]}\"' for qid in qids])\n",
    "        matching_rows = dataset_copy.query(query)\n",
    "        if len(matching_rows) < k:\n",
    "            print(f\"Fail!!..... The dataset is not {k}-Anonymised. Check your implementation\")\n",
    "            return\n",
    "    print(f'Congratulation!!.... The dataset satisfies {k}-Anonymisation')\n",
    "    \n",
    "isKAnonymized(data_anonymised, 3)"
   ]
  },
  {
   "cell_type": "markdown",
   "id": "3029d7f6-fc83-497e-80b5-2389636de863",
   "metadata": {},
   "source": [
    "# Question 5 (25 marks)"
   ]
  },
  {
   "cell_type": "markdown",
   "id": "1f8ff382-fcac-414b-bf40-93027ec83f6c",
   "metadata": {},
   "source": [
    "An external research team is requesting to analyse the <b>“UOA_counseling_dataset.csv”</b>. As a privacy expert, you need to create differentially private algorithms to securely release the data to the researchers.\n",
    "The research team intends to analyse the psychological issues of UoA students based on their age and ethnicity.<br>\n",
    "<br>\n",
    "<b>Additional information:</b> <br>\n",
    "•\t7 ethnicities: European, Asian, Maori, Middle Eastern, Latin American, African, and Pacific are in the dataset<br>\n",
    "•\tMinimum age in the dataset is 19<br>\n",
    "•\tNo human will enrol in a university after 90\n",
    "\n"
   ]
  },
  {
   "cell_type": "code",
   "execution_count": 3,
   "id": "16785aa1-f10c-45f9-9c3b-855b2268ad20",
   "metadata": {
    "tags": []
   },
   "outputs": [],
   "source": [
    "#Load the dataset\n",
    "data_dp = pd.read_csv('UOA_counseling_dataset.csv')"
   ]
  },
  {
   "cell_type": "code",
   "execution_count": 4,
   "id": "a5adaae8-d3a0-4a16-a094-7b6e7a039b42",
   "metadata": {
    "tags": []
   },
   "outputs": [
    {
     "name": "stdout",
     "output_type": "stream",
     "text": [
      "<class 'pandas.core.frame.DataFrame'>\n",
      "RangeIndex: 500 entries, 0 to 499\n",
      "Data columns (total 25 columns):\n",
      " #   Column             Non-Null Count  Dtype \n",
      "---  ------             --------------  ----- \n",
      " 0   Full Name          500 non-null    object\n",
      " 1   Student ID         500 non-null    object\n",
      " 2   Email              500 non-null    object\n",
      " 3   Preferred Email    500 non-null    object\n",
      " 4   Mobile Number      500 non-null    int64 \n",
      " 5   Address            500 non-null    object\n",
      " 6   ZIP                500 non-null    int64 \n",
      " 7   DoB                500 non-null    object\n",
      " 8   Sessions Offered   500 non-null    int64 \n",
      " 9   Sessions Attended  500 non-null    int64 \n",
      " 10  Gender             500 non-null    object\n",
      " 11  Ethnicity          500 non-null    object\n",
      " 12  Study Field        500 non-null    object\n",
      " 13  Sexual Abuse       500 non-null    int64 \n",
      " 14  Suicidal           500 non-null    int64 \n",
      " 15  Self Harm          500 non-null    int64 \n",
      " 16  Anxiety            500 non-null    int64 \n",
      " 17  Depression         500 non-null    int64 \n",
      " 18  Eating Disorder    500 non-null    int64 \n",
      " 19  Health             500 non-null    int64 \n",
      " 20  Risk to Others     500 non-null    int64 \n",
      " 21  Anger              500 non-null    int64 \n",
      " 22  Alcohol            500 non-null    int64 \n",
      " 23  Drugs              500 non-null    int64 \n",
      " 24  Smoking            500 non-null    int64 \n",
      "dtypes: int64(16), object(9)\n",
      "memory usage: 97.8+ KB\n"
     ]
    }
   ],
   "source": [
    "#List down the column names\n",
    "data_dp.info()"
   ]
  },
  {
   "cell_type": "markdown",
   "id": "0eb8784c-596f-4307-a25c-0c0fc9e1f744",
   "metadata": {
    "tags": []
   },
   "source": [
    "### Question 5.1"
   ]
  },
  {
   "cell_type": "markdown",
   "id": "de19fcfc-b6ad-4855-a985-f94441d4cce7",
   "metadata": {},
   "source": [
    "Complete the preprocessing steps"
   ]
  },
  {
   "cell_type": "markdown",
   "id": "b176536b-62e0-47c0-b6ef-1fcb14472bc4",
   "metadata": {},
   "source": [
    "#### Question 5.1.a"
   ]
  },
  {
   "cell_type": "markdown",
   "id": "701706d3-d2cf-4971-8e03-98daef6575e7",
   "metadata": {},
   "source": [
    "Remove the columns that are not required for the research team’s analysis. [2 marks]"
   ]
  },
  {
   "cell_type": "code",
   "execution_count": 5,
   "id": "5e76fdc6-ac75-4042-b44c-90680e981308",
   "metadata": {
    "tags": []
   },
   "outputs": [],
   "source": [
    "def dp_remove_columns():\n",
    "    data_dp.drop(columns = ['Full Name', 'Student ID', 'Email', 'Preferred Email', 'Mobile Number', 'Address', 'ZIP', 'Sessions Offered', 'Sessions Attended', 'Gender', 'Study Field'], inplace = True)"
   ]
  },
  {
   "cell_type": "markdown",
   "id": "471c7158-99cf-4dca-89e3-bd8123e453e4",
   "metadata": {},
   "source": [
    "#### Question 5.1.b"
   ]
  },
  {
   "cell_type": "markdown",
   "id": "46580115-2985-4505-8cb7-62c3af8d0f6c",
   "metadata": {
    "tags": []
   },
   "source": [
    "Convert the ‘DoB’ values to the corresponding age. Rename the column as ‘Age’ [1 mark]"
   ]
  },
  {
   "cell_type": "code",
   "execution_count": 6,
   "id": "e194b619-ad79-4001-bd25-832dad1338dc",
   "metadata": {
    "tags": []
   },
   "outputs": [],
   "source": [
    "def dp_calculate_age(dataset):\n",
    "    # Convert the 'DoB' column to datetime format\n",
    "    dataset['DoB'] = pd.to_datetime(dataset['DoB'], format='%d/%m/%Y')\n",
    "    today = datetime.today()\n",
    "    dataset['DoB'] = dataset['DoB'].apply(lambda dob: today.year - dob.year - ((today.month, today.day) < (dob.month, dob.day)))\n",
    "    dataset.rename(columns={\"DoB\": \"Age\"}, inplace = True)"
   ]
  },
  {
   "cell_type": "markdown",
   "id": "38832777-1019-474e-9311-13e981b08ef0",
   "metadata": {},
   "source": [
    "##### Run the preprocessing method"
   ]
  },
  {
   "cell_type": "code",
   "execution_count": 9,
   "id": "343b661f-e892-4b2b-8519-7f471c488a61",
   "metadata": {
    "tags": []
   },
   "outputs": [
    {
     "ename": "KeyError",
     "evalue": "'DoB'",
     "output_type": "error",
     "traceback": [
      "\u001b[1;31m---------------------------------------------------------------------------\u001b[0m",
      "\u001b[1;31mKeyError\u001b[0m                                  Traceback (most recent call last)",
      "File \u001b[1;32m~\\AppData\\Local\\Programs\\Python\\Python310\\lib\\site-packages\\pandas\\core\\indexes\\base.py:3621\u001b[0m, in \u001b[0;36mIndex.get_loc\u001b[1;34m(self, key, method, tolerance)\u001b[0m\n\u001b[0;32m   3620\u001b[0m \u001b[38;5;28;01mtry\u001b[39;00m:\n\u001b[1;32m-> 3621\u001b[0m     \u001b[38;5;28;01mreturn\u001b[39;00m \u001b[38;5;28;43mself\u001b[39;49m\u001b[38;5;241;43m.\u001b[39;49m\u001b[43m_engine\u001b[49m\u001b[38;5;241;43m.\u001b[39;49m\u001b[43mget_loc\u001b[49m\u001b[43m(\u001b[49m\u001b[43mcasted_key\u001b[49m\u001b[43m)\u001b[49m\n\u001b[0;32m   3622\u001b[0m \u001b[38;5;28;01mexcept\u001b[39;00m \u001b[38;5;167;01mKeyError\u001b[39;00m \u001b[38;5;28;01mas\u001b[39;00m err:\n",
      "File \u001b[1;32m~\\AppData\\Local\\Programs\\Python\\Python310\\lib\\site-packages\\pandas\\_libs\\index.pyx:136\u001b[0m, in \u001b[0;36mpandas._libs.index.IndexEngine.get_loc\u001b[1;34m()\u001b[0m\n",
      "File \u001b[1;32m~\\AppData\\Local\\Programs\\Python\\Python310\\lib\\site-packages\\pandas\\_libs\\index.pyx:163\u001b[0m, in \u001b[0;36mpandas._libs.index.IndexEngine.get_loc\u001b[1;34m()\u001b[0m\n",
      "File \u001b[1;32mpandas\\_libs\\hashtable_class_helper.pxi:5198\u001b[0m, in \u001b[0;36mpandas._libs.hashtable.PyObjectHashTable.get_item\u001b[1;34m()\u001b[0m\n",
      "File \u001b[1;32mpandas\\_libs\\hashtable_class_helper.pxi:5206\u001b[0m, in \u001b[0;36mpandas._libs.hashtable.PyObjectHashTable.get_item\u001b[1;34m()\u001b[0m\n",
      "\u001b[1;31mKeyError\u001b[0m: 'DoB'",
      "\nThe above exception was the direct cause of the following exception:\n",
      "\u001b[1;31mKeyError\u001b[0m                                  Traceback (most recent call last)",
      "Input \u001b[1;32mIn [9]\u001b[0m, in \u001b[0;36m<cell line: 5>\u001b[1;34m()\u001b[0m\n\u001b[0;32m      1\u001b[0m \u001b[38;5;28;01mdef\u001b[39;00m \u001b[38;5;21mdp_preprocess_data\u001b[39m():\n\u001b[0;32m      2\u001b[0m     \u001b[38;5;66;03m# dp_remove_columns()\u001b[39;00m\n\u001b[0;32m      3\u001b[0m     dp_calculate_age(data_dp)\n\u001b[1;32m----> 5\u001b[0m \u001b[43mdp_preprocess_data\u001b[49m\u001b[43m(\u001b[49m\u001b[43m)\u001b[49m\n\u001b[0;32m      6\u001b[0m dataset\n",
      "Input \u001b[1;32mIn [9]\u001b[0m, in \u001b[0;36mdp_preprocess_data\u001b[1;34m()\u001b[0m\n\u001b[0;32m      1\u001b[0m \u001b[38;5;28;01mdef\u001b[39;00m \u001b[38;5;21mdp_preprocess_data\u001b[39m():\n\u001b[0;32m      2\u001b[0m     \u001b[38;5;66;03m# dp_remove_columns()\u001b[39;00m\n\u001b[1;32m----> 3\u001b[0m     \u001b[43mdp_calculate_age\u001b[49m\u001b[43m(\u001b[49m\u001b[43mdata_dp\u001b[49m\u001b[43m)\u001b[49m\n",
      "Input \u001b[1;32mIn [6]\u001b[0m, in \u001b[0;36mdp_calculate_age\u001b[1;34m(dataset)\u001b[0m\n\u001b[0;32m      1\u001b[0m \u001b[38;5;28;01mdef\u001b[39;00m \u001b[38;5;21mdp_calculate_age\u001b[39m(dataset):\n\u001b[0;32m      2\u001b[0m     \u001b[38;5;66;03m# Convert the 'DoB' column to datetime format\u001b[39;00m\n\u001b[1;32m----> 3\u001b[0m     dataset[\u001b[38;5;124m'\u001b[39m\u001b[38;5;124mDoB\u001b[39m\u001b[38;5;124m'\u001b[39m] \u001b[38;5;241m=\u001b[39m pd\u001b[38;5;241m.\u001b[39mto_datetime(\u001b[43mdataset\u001b[49m\u001b[43m[\u001b[49m\u001b[38;5;124;43m'\u001b[39;49m\u001b[38;5;124;43mDoB\u001b[39;49m\u001b[38;5;124;43m'\u001b[39;49m\u001b[43m]\u001b[49m, \u001b[38;5;28mformat\u001b[39m\u001b[38;5;241m=\u001b[39m\u001b[38;5;124m'\u001b[39m\u001b[38;5;132;01m%d\u001b[39;00m\u001b[38;5;124m/\u001b[39m\u001b[38;5;124m%\u001b[39m\u001b[38;5;124mm/\u001b[39m\u001b[38;5;124m%\u001b[39m\u001b[38;5;124mY\u001b[39m\u001b[38;5;124m'\u001b[39m)\n\u001b[0;32m      4\u001b[0m     today \u001b[38;5;241m=\u001b[39m datetime\u001b[38;5;241m.\u001b[39mtoday()\n\u001b[0;32m      5\u001b[0m     dataset[\u001b[38;5;124m'\u001b[39m\u001b[38;5;124mDoB\u001b[39m\u001b[38;5;124m'\u001b[39m] \u001b[38;5;241m=\u001b[39m dataset[\u001b[38;5;124m'\u001b[39m\u001b[38;5;124mDoB\u001b[39m\u001b[38;5;124m'\u001b[39m]\u001b[38;5;241m.\u001b[39mapply(\u001b[38;5;28;01mlambda\u001b[39;00m dob: today\u001b[38;5;241m.\u001b[39myear \u001b[38;5;241m-\u001b[39m dob\u001b[38;5;241m.\u001b[39myear \u001b[38;5;241m-\u001b[39m ((today\u001b[38;5;241m.\u001b[39mmonth, today\u001b[38;5;241m.\u001b[39mday) \u001b[38;5;241m<\u001b[39m (dob\u001b[38;5;241m.\u001b[39mmonth, dob\u001b[38;5;241m.\u001b[39mday)))\n",
      "File \u001b[1;32m~\\AppData\\Local\\Programs\\Python\\Python310\\lib\\site-packages\\pandas\\core\\frame.py:3505\u001b[0m, in \u001b[0;36mDataFrame.__getitem__\u001b[1;34m(self, key)\u001b[0m\n\u001b[0;32m   3503\u001b[0m \u001b[38;5;28;01mif\u001b[39;00m \u001b[38;5;28mself\u001b[39m\u001b[38;5;241m.\u001b[39mcolumns\u001b[38;5;241m.\u001b[39mnlevels \u001b[38;5;241m>\u001b[39m \u001b[38;5;241m1\u001b[39m:\n\u001b[0;32m   3504\u001b[0m     \u001b[38;5;28;01mreturn\u001b[39;00m \u001b[38;5;28mself\u001b[39m\u001b[38;5;241m.\u001b[39m_getitem_multilevel(key)\n\u001b[1;32m-> 3505\u001b[0m indexer \u001b[38;5;241m=\u001b[39m \u001b[38;5;28;43mself\u001b[39;49m\u001b[38;5;241;43m.\u001b[39;49m\u001b[43mcolumns\u001b[49m\u001b[38;5;241;43m.\u001b[39;49m\u001b[43mget_loc\u001b[49m\u001b[43m(\u001b[49m\u001b[43mkey\u001b[49m\u001b[43m)\u001b[49m\n\u001b[0;32m   3506\u001b[0m \u001b[38;5;28;01mif\u001b[39;00m is_integer(indexer):\n\u001b[0;32m   3507\u001b[0m     indexer \u001b[38;5;241m=\u001b[39m [indexer]\n",
      "File \u001b[1;32m~\\AppData\\Local\\Programs\\Python\\Python310\\lib\\site-packages\\pandas\\core\\indexes\\base.py:3623\u001b[0m, in \u001b[0;36mIndex.get_loc\u001b[1;34m(self, key, method, tolerance)\u001b[0m\n\u001b[0;32m   3621\u001b[0m     \u001b[38;5;28;01mreturn\u001b[39;00m \u001b[38;5;28mself\u001b[39m\u001b[38;5;241m.\u001b[39m_engine\u001b[38;5;241m.\u001b[39mget_loc(casted_key)\n\u001b[0;32m   3622\u001b[0m \u001b[38;5;28;01mexcept\u001b[39;00m \u001b[38;5;167;01mKeyError\u001b[39;00m \u001b[38;5;28;01mas\u001b[39;00m err:\n\u001b[1;32m-> 3623\u001b[0m     \u001b[38;5;28;01mraise\u001b[39;00m \u001b[38;5;167;01mKeyError\u001b[39;00m(key) \u001b[38;5;28;01mfrom\u001b[39;00m \u001b[38;5;21;01merr\u001b[39;00m\n\u001b[0;32m   3624\u001b[0m \u001b[38;5;28;01mexcept\u001b[39;00m \u001b[38;5;167;01mTypeError\u001b[39;00m:\n\u001b[0;32m   3625\u001b[0m     \u001b[38;5;66;03m# If we have a listlike key, _check_indexing_error will raise\u001b[39;00m\n\u001b[0;32m   3626\u001b[0m     \u001b[38;5;66;03m#  InvalidIndexError. Otherwise we fall through and re-raise\u001b[39;00m\n\u001b[0;32m   3627\u001b[0m     \u001b[38;5;66;03m#  the TypeError.\u001b[39;00m\n\u001b[0;32m   3628\u001b[0m     \u001b[38;5;28mself\u001b[39m\u001b[38;5;241m.\u001b[39m_check_indexing_error(key)\n",
      "\u001b[1;31mKeyError\u001b[0m: 'DoB'"
     ]
    }
   ],
   "source": [
    "def dp_preprocess_data():\n",
    "    dp_remove_columns()\n",
    "    dp_calculate_age(data_dp)\n",
    "    \n",
    "dp_preprocess_data()\n"
   ]
  },
  {
   "cell_type": "markdown",
   "id": "b43a8a02-7452-43f8-b1c1-92e9ce6c0f2f",
   "metadata": {
    "tags": []
   },
   "source": [
    "### Question 5.2"
   ]
  },
  {
   "cell_type": "markdown",
   "id": "f2977693-2de2-4fda-8700-1501fcfdd1bb",
   "metadata": {},
   "source": [
    "<b>Query:</b> “What is the average age of the students that participated in the counselling sessions?”.  You can assume: 0 < epsilon <= 1"
   ]
  },
  {
   "cell_type": "markdown",
   "id": "af7d4872-f4ec-41ae-83e6-05fe5ed25c04",
   "metadata": {},
   "source": [
    "#### Question 5.2.a"
   ]
  },
  {
   "cell_type": "markdown",
   "id": "f4566f71-2958-4e8f-947f-1ed6a916e6f4",
   "metadata": {},
   "source": [
    "Complete and run the function to identify a suitable maximum age in teh dataset using differentially private clipping [3 marks]"
   ]
  },
  {
   "cell_type": "code",
   "execution_count": 14,
   "id": "6ea0a427-1493-40a2-bed3-1716196ad92a",
   "metadata": {},
   "outputs": [
    {
     "data": {
      "image/png": "[encoded data removed]",
      "text/plain": [
       "<Figure size 640x480 with 1 Axes>"
      ]
     },
     "metadata": {},
     "output_type": "display_data"
    }
   ],
   "source": [
    "def clipping_graph():\n",
    "    results = []\n",
    "    x_values = list(range(19, 91))\n",
    "\n",
    "    for i in range(19, 91):\n",
    "        age = data_dp['Age'].clip(lower = 19, upper = i).sum()\n",
    "        noisy_age = age + np.random.laplace(loc = 0, scale = 1/0.1)\n",
    "        \n",
    "        results.append(noisy_age)\n",
    "\n",
    "    plt.plot(x_values, results)  #first the range of i - for the x axis\n",
    "    plt.xlabel('Clipping Bound for Age')\n",
    "    plt.ylabel('Noisy Total Age');\n",
    "    \n",
    "clipping_graph()"
   ]
  },
  {
   "cell_type": "markdown",
   "id": "2359c10c-d251-4749-8c98-0f4cbe961c7e",
   "metadata": {
    "tags": []
   },
   "source": [
    "#### Question 5.2.b"
   ]
  },
  {
   "cell_type": "markdown",
   "id": "645f351e-5fb0-4fe1-872a-f5cb28dce902",
   "metadata": {},
   "source": [
    "What is the maximum age that you selected by looking at the graph? [2 mark]"
   ]
  },
  {
   "cell_type": "markdown",
   "id": "618f2cff-2322-4637-a4f8-0b1ae7f992c5",
   "metadata": {},
   "source": [
    "<font color=\"blue\"> Max age selected is 40 years old. 40 is consistantly the maximum age, whereas 35 can be too young when the graph is rerun.<font>"
   ]
  },
  {
   "cell_type": "markdown",
   "id": "97aa6c4b-468b-4622-a6b2-9c7d5970d513",
   "metadata": {
    "tags": []
   },
   "source": [
    "#### Question 5.2.c"
   ]
  },
  {
   "cell_type": "markdown",
   "id": "2c082883-58bc-49dd-aec0-80db97d33adb",
   "metadata": {
    "tags": []
   },
   "source": [
    "Complete and run the function to release the differentially private query result [3 marks]"
   ]
  },
  {
   "cell_type": "code",
   "execution_count": 22,
   "id": "59275dce-71a6-4863-8f2c-c5f2e4814898",
   "metadata": {},
   "outputs": [
    {
     "data": {
      "text/plain": [
       "27.581708462575808"
      ]
     },
     "execution_count": 22,
     "metadata": {},
     "output_type": "execute_result"
    }
   ],
   "source": [
    "real_sum = data_dp['Age'].sum()\n",
    "real_count = len(data_dp)\n",
    "\n",
    "senstivityAge = 90-19\n",
    "senstivityCount = 1\n",
    "\n",
    "epsilonAge = 0.5\n",
    "epsilonCount = 0.5\n",
    "\n",
    "def get_noisy_age(senstivity, epsilon):\n",
    "    return real_sum + np.random.laplace(loc = 0, scale = senstivity/epsilon)\n",
    "\n",
    "def get_noisy_count(senstivity, epsilon):\n",
    "    return real_count + np.random.laplace(loc = 0, scale = senstivity/epsilon)\n",
    "\n",
    "def get_noisy_average_age(senstivityAge, epsilonAge, senstivityCount, epsilonCount):\n",
    "    noisy_age = get_noisy_age(senstivityAge, epsilonAge)\n",
    "    noisy_count = get_noisy_count(senstivityCount, epsilonCount)\n",
    "    return noisy_age / noisy_count\n",
    "    \n",
    "get_noisy_average_age(senstivityAge , epsilonAge, senstivityCount, epsilonCount)"
   ]
  },
  {
   "cell_type": "markdown",
   "id": "0d386d6e-bd98-429a-9deb-6122c42e7a3a",
   "metadata": {},
   "source": [
    "#### Question 5.2.d"
   ]
  },
  {
   "cell_type": "markdown",
   "id": "c05aa03c-efc2-4069-b7f6-8b3f42e567f8",
   "metadata": {},
   "source": [
    "Describe your function in a simple manner. Mention all the sensitivities and epsilon values used with appropriate justifications [4 marks]"
   ]
  },
  {
   "cell_type": "markdown",
   "id": "f305acf8-4e01-4f46-b22b-2c35e51e1807",
   "metadata": {
    "tags": []
   },
   "source": [
    "<div style=\"color: blue\">The function get_noisy_average_age protects the ages of students are protected using differential privacy by adding Laplace noise to the sum of both age and count records, each adjusted for their respective sensitivities and epsilon values. An epsilon value of 0.5 ensures strong privacy protection whilst maintaining usable data. If a student is removed or added, the count is only changed by a maximum of 1; therefore, the count sensitivity is 1. The age sensitivity is (90-19), which is the upper and lower limits for age in this dataset. Moreover, removing or adding a student can only change the age total by (90-19)."
   ]
  },
  {
   "cell_type": "markdown",
   "id": "1c662816-6d2c-4630-a36b-69010e6db6ef",
   "metadata": {
    "tags": []
   },
   "source": [
    "#### Question 5.2.e"
   ]
  },
  {
   "cell_type": "markdown",
   "id": "48eceb27-665a-46a8-aa20-9af938e528de",
   "metadata": {
    "tags": []
   },
   "source": [
    "For <b>each</b> epsilon value in epsilons, run the <b>get_noisy_average_age()</b> for 1000 times. Calculate the average error for each epsilon. You can pass the same epsilon value for 2nd and 4th parameters of get_noisy_average_age() Complete and run the below code to achieve it. Describe the results you got with proper reasoning. [4 marks]\n",
    "\n",
    "error = |noisy value - real value|"
   ]
  },
  {
   "cell_type": "code",
   "execution_count": null,
   "id": "75b80483-b132-45a4-82dd-4025b6a41479",
   "metadata": {},
   "outputs": [],
   "source": [
    "epsilons = [0.01, 0.5, 2]\n",
    "average_error = []\n",
    "real_average = real_sum / real_count\n",
    "\n",
    "for epsilon in epsilons:\n",
    "    local_av = []\n",
    "    for i in range(1000):\n",
    "        local_av.append(abs(get_noisy_average_age(senstivityAge, epsilon, senstivityCount, epsilon) - real_average))\n",
    "    average_error.append(np.mean(local_av))\n",
    "\n",
    "data_average_error = {\n",
    "    'Epsilon': epsilons,\n",
    "    'Average Error': average_error\n",
    "}\n",
    "\n",
    "pd.DataFrame(data_average_error)"
   ]
  },
  {
   "cell_type": "markdown",
   "id": "49e906ff-5c28-4051-a248-ecb4c4556835",
   "metadata": {},
   "source": [
    "<div style=\"color: blue\">As the epsilon value increases the amount of noise decreases, the results above reflect this. When epsilon is 0.01, \n",
    "the average error is 22.34 indicating a large amount of noise. With a large epsilon of 2, the average error is only 0.08."
   ]
  },
  {
   "cell_type": "markdown",
   "id": "3b3a84e3-ddca-48b4-b8a7-3742a5b796e3",
   "metadata": {
    "tags": []
   },
   "source": [
    "### Question 5.3"
   ]
  },
  {
   "cell_type": "markdown",
   "id": "5e2cd0d2-f6b5-4026-a91d-5aabf7c546b8",
   "metadata": {},
   "source": [
    "In this question, the original dataset is partitioned so that we can release differentially private results according to parallel composition. Execute the below code to see the partitioned dataset."
   ]
  },
  {
   "cell_type": "code",
   "execution_count": null,
   "id": "0e94956e-4468-4cd5-ac2a-e73af468e62f",
   "metadata": {},
   "outputs": [],
   "source": [
    "# Get the unique Ethnicities in the preprocessed_data into one array unique_ethnicities\n",
    "unique_ethnicities = data_dp['Ethnicity'].unique()\n",
    "\n",
    "# For each ethnicity, get the Total Count of the people who have anxiety into an array count\n",
    "count = []\n",
    "for ethnicity in unique_ethnicities:\n",
    "    count.append(len(data_dp[(data_dp['Anxiety'] == 1) & (data_dp['Ethnicity'] == ethnicity)]))\n",
    "\n",
    "# Merge the two arrays into tuples. This is already done for you\n",
    "data_dp_part = pd.DataFrame({\n",
    "    'Ethnicity': unique_ethnicities,\n",
    "    'Count': count\n",
    "})\n",
    "\n",
    "data_dp_part"
   ]
  },
  {
   "cell_type": "markdown",
   "id": "075923cc-6ad3-4731-bc61-e3801d8364a3",
   "metadata": {},
   "source": [
    "#### Question 5.3.a"
   ]
  },
  {
   "cell_type": "markdown",
   "id": "7978400b-ef1e-47d1-afc9-069a70c4a591",
   "metadata": {},
   "source": [
    "The following query is needs to be executed on the above dataset.\n",
    "<br>**Query:** \"What is the total count of people with anxiety in Ethnicity x\".\n",
    "<br>This query needs to be executed for each ethnicity in the dataset, replacing x with the appropriate Ethnicity.\n",
    "\n",
    "What is the total privacy loss? Justify you answer [3 marks]"
   ]
  },
  {
   "cell_type": "markdown",
   "id": "d471b4e0-063f-4e68-94c8-69f32bff5e76",
   "metadata": {},
   "source": [
    "<font color=\"blue\"> The privacy loss is ε.\n",
    "\n",
    "For the query \"What is the total count of people with anxiety in Ethnicity x,\" each individual belongs to only one ethnicity, meaning they only appear in a single subset of the dataset. Since the queries are executed on disjoint subsets, no individual’s data is queried more than once across all ethnicities. Therefore, we apply the parallel composition rule.\n",
    "\n",
    "In parallel composition, when we partition the dataset and run independent queries on each ethnicity, the total privacy loss remains the same as if we ran a single query. This is because each ethnicity is treated as a disjoint subset of the original dataset, and querying these subsets independently does not accumulate additional privacy loss. Thus, the total privacy loss for querying all ethnicities is ε.\n",
    "\n",
    "The method of using ε for the total privacy loss is suitable for this dataset because it accounts for the fact that each ethnicity represents a unique group without overlap. By leveraging parallel composition, we ensure that the privacy of individuals is maintained, even when multiple queries are executed. Each query provides insights into distinct populations without increasing the risk of re-identification.\n",
    " </font>"
   ]
  },
  {
   "cell_type": "markdown",
   "id": "2959a693-52ce-4a7d-9f59-38544143c04e",
   "metadata": {},
   "source": [
    "#### Question 5.3.b"
   ]
  },
  {
   "cell_type": "markdown",
   "id": "17194cb8-1fab-4336-aa44-85d7d4335ea4",
   "metadata": {
    "tags": []
   },
   "source": [
    "What are the benefits of parallel composition? [3 marks] "
   ]
  },
  {
   "cell_type": "markdown",
   "id": "41209138-32f4-4576-bfb8-16a1c99d0660",
   "metadata": {
    "tags": []
   },
   "source": [
    "<div style=\"color: blue\">\n",
    "Parallel composition in differential privacy offers key benefits when dealing with partitioned datasets or disjoint subsets:<br>\n",
    "<li>By dividing data into disjoint chunks, multiple queries can be processed simultaneously. Since the chunks are non-overlapping, each individual's data appears in exactly one chunk. Therefore, even if there are 𝑛 chunks (and thus 𝑛 executions of the mechanism), the mechanism runs only once on each individual's data.This reduces overall computation time and allows for faster results.</li>\n",
    "<li>Parallel composition allows more efficient use of the privacy budget.When a dataset is split into non-overlapping subsets, parallel composition ensures that querying these subsets separately doesn’t add up the privacy loss from each query. The privacy cost remains limited to a single query’s privacy budget, ε, no matter how many separate groups are queried.</li>\n",
    "<li> Since each chunk is processed independently, the risk of revealing sensitive information is minimized. Each individual's data appears in only one chunk, reducing the likelihood of re-identification across multiple queries. </li>\n",
    "<li> Analyzing results from disjoint chunks can simplify the interpretation of data. Each chunk can be treated independently, making it easier to understand the contributions of different segments of the dataset. </li>\n",
    "\n",
    "</div>\n",
    "\n"
   ]
  },
  {
   "cell_type": "markdown",
   "id": "d44983a4",
   "metadata": {},
   "source": [
    "#### References"
   ]
  },
  {
   "cell_type": "markdown",
   "id": "137fed68",
   "metadata": {},
   "source": [
    "Cowan, J. (2024, July 16). California Becomes the First State to Ban Student Gender Notification Policies. The New York Times. https://www.nytimes.com/2024/07/16/us/gender-identity-bill-california.html\n",
    "\n",
    "Harris, P. B., Werner, C. M., Brown, B. B., & Ingebritsen, D. (1995). Relocation and Privacy Regulation: A Cross-Cultural Analysis. Journal of Environmental Psychology, 15(4), 311–320. https://doi.org/10.1006/jevp.1995.0027\n",
    "\n",
    "Khan, A. (2021, June 16). When Data Privacy Becomes a Subject of Faith. YES! Magazine. https://www.yesmagazine.org/social-justice/2021/06/16/app-data-collection-muslims-in-tech\n",
    "\n",
    "Li, Y. (2022).Cross-Cultural Privacy Differences. In: Knijnenburg, B.P., Page, X., Wisniewski, P., Lipford, H.R., Proferes, N., Romano, J. (eds) Modern Socio-Technical Perspectives on Privacy. Springer, Cham. https://doi.org/10.1007/978-3-030-82786-1_12\n",
    "\n",
    "Privacy Act 2020: Resources for schools and early learning services. (2024, June 5). Education in New Zealand.https://www.education.govt.nz/school/managing-and-supporting-students/sharing-information/privacy-act-2020-resources-for-schools-and-early-learning-services/#:~:text=About%20the%20Privacy%20Act%20and%20what%20it%20covers&text=It%20is%20one%20of%20the\n",
    "\n",
    "Properties of Differential Privacy — Programming Differential Privacy. (2024). Programming-Dp.com. https://programming-dp.com/ch4.html \n",
    "\n",
    "PTI. (2024, September 23). Punjab: Students of RGNUL in Patiala hold protest against vice-chancellor. The Hindu; The Hindu . https://www.thehindu.com/news/national/punjab/punjab-students-of-rgnul-in-patiala-hold-protest-against-vice-chancellor/article68673086.ece\n",
    "\n",
    "Waldman, A. E. (2017, March 31). Designing Without Privacy. Papers.ssrn.com. https://papers.ssrn.com/sol3/papers.cfm?abstract_id=2944185 \n",
    "\n",
    "Wong, J. C. (2019, March 18). The Cambridge Analytica Scandal Changed the World – but It Didn’t Change Facebook. The Guardian. https://www.theguardian.com/technology/2019/mar/17/the-cambridge-analytica-scandal-changed-the-world-but-it-didnt-change-facebook \n",
    "\n",
    "Zimmeck, S., Wang, Z., Zou, L., Iyengar, R., Liu, B., Schaub, F., Wilson, S., Sadeh, N., Bellovin, S., & Reidenberg, J. (2016). Automated Analysis of Privacy Requirements for Mobile Apps. https://cdn.aaai.org/ocs/14113/14113-62070-1-PB.pdf "
   ]
  }
 ],
 "metadata": {
  "kernelspec": {
   "display_name": "Python 3 (ipykernel)",
   "language": "python",
   "name": "python3"
  },
  "language_info": {
   "codemirror_mode": {
    "name": "ipython",
    "version": 3
   },
   "file_extension": ".py",
   "mimetype": "text/x-python",
   "name": "python",
   "nbconvert_exporter": "python",
   "pygments_lexer": "ipython3",
   "version": "3.11.5"
  }
 },
 "nbformat": 4,
 "nbformat_minor": 5
}
